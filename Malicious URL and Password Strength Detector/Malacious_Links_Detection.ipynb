{
  "nbformat": 4,
  "nbformat_minor": 0,
  "metadata": {
    "colab": {
      "name": "Malacious_Links_Detection_FCS_Project.ipynb",
      "provenance": []
    },
    "kernelspec": {
      "name": "python3",
      "display_name": "Python 3"
    }
  },
  "cells": [
    {
      "cell_type": "markdown",
      "metadata": {
        "id": "5SV0-Cj0Jr_I"
      },
      "source": [
        "## **IMPORTING REQUIRED MODULES**"
      ]
    },
    {
      "cell_type": "code",
      "metadata": {
        "id": "r2vLnDwUJlcw"
      },
      "source": [
        "import pandas as pd\r\n",
        "import matplotlib.pyplot as plt\r\n",
        "from sklearn.model_selection import train_test_split\r\n",
        "from sklearn.feature_extraction.text import CountVectorizer,TfidfVectorizer\r\n",
        "from sklearn.preprocessing import StandardScaler\r\n",
        "from sklearn.linear_model import LogisticRegression\r\n",
        "from sklearn.metrics import precision_score,recall_score,f1_score\r\n",
        "from sklearn.svm import SVC\r\n",
        "from sklearn.tree import DecisionTreeClassifier\r\n",
        "from sklearn.ensemble import RandomForestClassifier\r\n",
        "from sklearn.naive_bayes import GaussianNB\r\n",
        "from tqdm import tqdm\r\n",
        "import warnings\r\n",
        "warnings.filterwarnings(\"ignore\")"
      ],
      "execution_count": null,
      "outputs": []
    },
    {
      "cell_type": "markdown",
      "metadata": {
        "id": "dcy5tcuJPeY5"
      },
      "source": [
        "## **READING THE DATA**"
      ]
    },
    {
      "cell_type": "code",
      "metadata": {
        "colab": {
          "base_uri": "https://localhost:8080/",
          "height": 195
        },
        "id": "YGfygAipPepu",
        "outputId": "e724fc65-b09e-403d-adaf-88c4d298461b"
      },
      "source": [
        "path = \"/content/drive/MyDrive/FCS_PROJECT/malacious_fcs.csv\"\r\n",
        "data = pd.read_csv(path,encoding='latin-1')\r\n",
        "data.head()"
      ],
      "execution_count": null,
      "outputs": [
        {
          "output_type": "execute_result",
          "data": {
            "text/html": [
              "<div>\n",
              "<style scoped>\n",
              "    .dataframe tbody tr th:only-of-type {\n",
              "        vertical-align: middle;\n",
              "    }\n",
              "\n",
              "    .dataframe tbody tr th {\n",
              "        vertical-align: top;\n",
              "    }\n",
              "\n",
              "    .dataframe thead th {\n",
              "        text-align: right;\n",
              "    }\n",
              "</style>\n",
              "<table border=\"1\" class=\"dataframe\">\n",
              "  <thead>\n",
              "    <tr style=\"text-align: right;\">\n",
              "      <th></th>\n",
              "      <th>url</th>\n",
              "      <th>label</th>\n",
              "    </tr>\n",
              "  </thead>\n",
              "  <tbody>\n",
              "    <tr>\n",
              "      <th>0</th>\n",
              "      <td>diaryofagameaddict.com</td>\n",
              "      <td>bad</td>\n",
              "    </tr>\n",
              "    <tr>\n",
              "      <th>1</th>\n",
              "      <td>espdesign.com.au</td>\n",
              "      <td>bad</td>\n",
              "    </tr>\n",
              "    <tr>\n",
              "      <th>2</th>\n",
              "      <td>iamagameaddict.com</td>\n",
              "      <td>bad</td>\n",
              "    </tr>\n",
              "    <tr>\n",
              "      <th>3</th>\n",
              "      <td>kalantzis.net</td>\n",
              "      <td>bad</td>\n",
              "    </tr>\n",
              "    <tr>\n",
              "      <th>4</th>\n",
              "      <td>slightlyoffcenter.net</td>\n",
              "      <td>bad</td>\n",
              "    </tr>\n",
              "  </tbody>\n",
              "</table>\n",
              "</div>"
            ],
            "text/plain": [
              "                      url label\n",
              "0  diaryofagameaddict.com   bad\n",
              "1        espdesign.com.au   bad\n",
              "2      iamagameaddict.com   bad\n",
              "3           kalantzis.net   bad\n",
              "4   slightlyoffcenter.net   bad"
            ]
          },
          "metadata": {
            "tags": []
          },
          "execution_count": 2
        }
      ]
    },
    {
      "cell_type": "markdown",
      "metadata": {
        "id": "8p9ZCBYeQtpS"
      },
      "source": [
        "## **DATA STATISTICS**"
      ]
    },
    {
      "cell_type": "code",
      "metadata": {
        "colab": {
          "base_uri": "https://localhost:8080/",
          "height": 330
        },
        "id": "tMJ7RrM0QejA",
        "outputId": "2f7db39d-4b34-47c4-d488-c72091a2e237"
      },
      "source": [
        "data['label'].value_counts().plot(kind='bar')\r\n",
        "plt.ylabel(\"Number of Samples\")\r\n",
        "plt.show()\r\n",
        "data['label'].value_counts()"
      ],
      "execution_count": null,
      "outputs": [
        {
          "output_type": "display_data",
          "data": {
            "image/png": "[encoded data removed]",
            "text/plain": [
              "<Figure size 432x288 with 1 Axes>"
            ]
          },
          "metadata": {
            "tags": [],
            "needs_background": "light"
          }
        },
        {
          "output_type": "execute_result",
          "data": {
            "text/plain": [
              "good    148932\n",
              "bad      42767\n",
              "Name: label, dtype: int64"
            ]
          },
          "metadata": {
            "tags": []
          },
          "execution_count": 3
        }
      ]
    },
    {
      "cell_type": "markdown",
      "metadata": {
        "id": "cy6tdi39UxRh"
      },
      "source": [
        "## **MAPPING THE LABELS TO NUMERICS**"
      ]
    },
    {
      "cell_type": "code",
      "metadata": {
        "colab": {
          "base_uri": "https://localhost:8080/"
        },
        "id": "NgS4cBEiUzv5",
        "outputId": "365fbb3d-542d-4440-d8aa-015beb08f848"
      },
      "source": [
        "di = {\"bad\": '1', \"good\": '0'}\r\n",
        "data['label'].replace(di, inplace=True)\r\n",
        "print(data['label'].value_counts())"
      ],
      "execution_count": null,
      "outputs": [
        {
          "output_type": "stream",
          "text": [
            "0    148932\n",
            "1     42767\n",
            "Name: label, dtype: int64\n"
          ],
          "name": "stdout"
        }
      ]
    },
    {
      "cell_type": "markdown",
      "metadata": {
        "id": "H7jLxIeqUL83"
      },
      "source": [
        "## **PERFORMING TRAIN-CV-TEST SPLIT**"
      ]
    },
    {
      "cell_type": "code",
      "metadata": {
        "colab": {
          "base_uri": "https://localhost:8080/"
        },
        "id": "-ffGmxgQUSBL",
        "outputId": "80dc9886-96a4-4493-9601-67e4df299293"
      },
      "source": [
        "x_train,x_cv,y_train,y_cv = train_test_split(data['url'],data['label'],train_size=0.90,stratify =data['label'],random_state=42)\r\n",
        "x_train,x_test,y_train,y_test = train_test_split(x_train,y_train,train_size=0.90,stratify=y_train,random_state=42)\r\n",
        "print(\"Shape of X Train ::\",x_train.shape)\r\n",
        "print(\"Shape of Y Train ::\",y_train.shape)\r\n",
        "print(\"Shape of X CV::\",x_cv.shape)\r\n",
        "print(\"Shape of Y CV::\",y_cv.shape)\r\n",
        "print(\"Shape of X Test ::\",x_test.shape)\r\n",
        "print(\"Shape of Y Test ::\",y_test.shape)"
      ],
      "execution_count": null,
      "outputs": [
        {
          "output_type": "stream",
          "text": [
            "Shape of X Train :: (155276,)\n",
            "Shape of Y Train :: (155276,)\n",
            "Shape of X CV:: (19170,)\n",
            "Shape of Y CV:: (19170,)\n",
            "Shape of X Test :: (17253,)\n",
            "Shape of Y Test :: (17253,)\n"
          ],
          "name": "stdout"
        }
      ]
    },
    {
      "cell_type": "markdown",
      "metadata": {
        "id": "Fg9PFiYDXYTw"
      },
      "source": [
        "## **SAMPLES COUNT CLASS WISE IN TRAINING DATA**"
      ]
    },
    {
      "cell_type": "code",
      "metadata": {
        "colab": {
          "base_uri": "https://localhost:8080/",
          "height": 346
        },
        "id": "Pqo8qGQEXdDb",
        "outputId": "c1d92814-1a56-4280-edc0-f18231e98113"
      },
      "source": [
        "y_train.value_counts().plot(kind='bar')\r\n",
        "plt.xticks([0,1],['good','bad'])\r\n",
        "plt.ylabel(\"Count of Samples\")\r\n",
        "plt.title(\"Count of Samples-Class Wise - TRAINING Data\")\r\n",
        "plt.show()\r\n",
        "y_train.value_counts()"
      ],
      "execution_count": null,
      "outputs": [
        {
          "output_type": "display_data",
          "data": {
            "image/png": "[encoded data removed]",
            "text/plain": [
              "<Figure size 432x288 with 1 Axes>"
            ]
          },
          "metadata": {
            "tags": [],
            "needs_background": "light"
          }
        },
        {
          "output_type": "execute_result",
          "data": {
            "text/plain": [
              "0    120635\n",
              "1     34641\n",
              "Name: label, dtype: int64"
            ]
          },
          "metadata": {
            "tags": []
          },
          "execution_count": 6
        }
      ]
    },
    {
      "cell_type": "markdown",
      "metadata": {
        "id": "SRbomGrvWqnI"
      },
      "source": [
        "## **SAMPLES COUNT CLASS WISE IN CV DATA**"
      ]
    },
    {
      "cell_type": "code",
      "metadata": {
        "colab": {
          "base_uri": "https://localhost:8080/",
          "height": 346
        },
        "id": "hDme8T6PWvk1",
        "outputId": "411bd75c-4e6d-439d-8c46-d2df78fdefda"
      },
      "source": [
        "y_cv.value_counts().plot(kind='bar')\r\n",
        "plt.xticks([0,1],['good','bad'])\r\n",
        "plt.ylabel(\"Count of Samples\")\r\n",
        "plt.title(\"Count of Samples-Class Wise - CV Data\")\r\n",
        "plt.show()\r\n",
        "y_cv.value_counts()"
      ],
      "execution_count": null,
      "outputs": [
        {
          "output_type": "display_data",
          "data": {
            "image/png": "[encoded data removed]",
            "text/plain": [
              "<Figure size 432x288 with 1 Axes>"
            ]
          },
          "metadata": {
            "tags": [],
            "needs_background": "light"
          }
        },
        {
          "output_type": "execute_result",
          "data": {
            "text/plain": [
              "0    14893\n",
              "1     4277\n",
              "Name: label, dtype: int64"
            ]
          },
          "metadata": {
            "tags": []
          },
          "execution_count": 7
        }
      ]
    },
    {
      "cell_type": "markdown",
      "metadata": {
        "id": "TxNHtb6BXm9y"
      },
      "source": [
        "## **SAMPLES COUNT CLASS WISE IN TEST DATA**"
      ]
    },
    {
      "cell_type": "code",
      "metadata": {
        "colab": {
          "base_uri": "https://localhost:8080/",
          "height": 346
        },
        "id": "mLe-lw-eXnSC",
        "outputId": "3da2a60a-c782-436d-8baf-ea45afe8eb19"
      },
      "source": [
        "y_test.value_counts().plot(kind='bar')\r\n",
        "plt.xticks([0,1],['good','bad'])\r\n",
        "plt.ylabel(\"Count of Samples\")\r\n",
        "plt.title(\"Count of Samples-Class Wise - TEST Data\")\r\n",
        "plt.show()\r\n",
        "y_test.value_counts()"
      ],
      "execution_count": null,
      "outputs": [
        {
          "output_type": "display_data",
          "data": {
            "image/png": "[encoded data removed]",
            "text/plain": [
              "<Figure size 432x288 with 1 Axes>"
            ]
          },
          "metadata": {
            "tags": [],
            "needs_background": "light"
          }
        },
        {
          "output_type": "execute_result",
          "data": {
            "text/plain": [
              "0    13404\n",
              "1     3849\n",
              "Name: label, dtype: int64"
            ]
          },
          "metadata": {
            "tags": []
          },
          "execution_count": 8
        }
      ]
    },
    {
      "cell_type": "markdown",
      "metadata": {
        "id": "_3GB9n-MUHpR"
      },
      "source": [
        "## **TOKENIZING THE DATA**"
      ]
    },
    {
      "cell_type": "markdown",
      "metadata": {
        "id": "ply0bYmvfVf6"
      },
      "source": [
        "#### **THE TOKENIZER FUNCTION**"
      ]
    },
    {
      "cell_type": "code",
      "metadata": {
        "id": "cAKOhineZcQh"
      },
      "source": [
        "def tokenizer(url):\r\n",
        "  sb_hash = url.split(\"/\")\r\n",
        "  sb_dot=[]\r\n",
        "  sb_hyphen=[]\r\n",
        "  for i in sb_hash:\r\n",
        "    temp = i.split(\".\")\r\n",
        "    for j in temp:\r\n",
        "      sb_dot.append(j)\r\n",
        "  for i in sb_dot:\r\n",
        "    temp = i.split(\"-\")\r\n",
        "    for j in temp:\r\n",
        "      sb_hyphen.append(j)\r\n",
        "  final_tokens = list(set(sb_hyphen))\r\n",
        "  if \"com\" in final_tokens:\r\n",
        "    final_tokens.remove(\"com\")\r\n",
        "  if \"\" in final_tokens:\r\n",
        "    final_tokens.remove(\"\")\r\n",
        "  return ' '.join(final_tokens)"
      ],
      "execution_count": null,
      "outputs": []
    },
    {
      "cell_type": "markdown",
      "metadata": {
        "id": "egY3HatVfHDm"
      },
      "source": [
        "#### **TOKENIZER EXAMPLE**"
      ]
    },
    {
      "cell_type": "code",
      "metadata": {
        "colab": {
          "base_uri": "https://localhost:8080/",
          "height": 35
        },
        "id": "Az7GgjdYetOd",
        "outputId": "4fc7b6d7-fa91-46d3-f303-ce4b07342947"
      },
      "source": [
        "tokenizer(\"mani-kumar/reddy.co.com\")"
      ],
      "execution_count": null,
      "outputs": [
        {
          "output_type": "execute_result",
          "data": {
            "application/vnd.google.colaboratory.intrinsic+json": {
              "type": "string"
            },
            "text/plain": [
              "'reddy co kumar mani'"
            ]
          },
          "metadata": {
            "tags": []
          },
          "execution_count": 10
        }
      ]
    },
    {
      "cell_type": "markdown",
      "metadata": {
        "id": "LyYlpm0lfZpf"
      },
      "source": [
        "#### **TOKENIZING THE TRAINING DATA**"
      ]
    },
    {
      "cell_type": "code",
      "metadata": {
        "colab": {
          "base_uri": "https://localhost:8080/"
        },
        "id": "POoCF8q7Zxe7",
        "outputId": "ceb7b40b-1d8c-4e45-d437-ed83293364ab"
      },
      "source": [
        "x_train_tok = x_train.apply(tokenizer)\r\n",
        "x_train_tok"
      ],
      "execution_count": null,
      "outputs": [
        {
          "output_type": "execute_result",
          "data": {
            "text/plain": [
              "176702    pic roy net pics htm allstarpics gallery brock...\n",
              "7677                                          SRVjEY goo gl\n",
              "98136       Diane_Cho females php gogomag talkingheads bios\n",
              "137200    96 CJFM FM Virgin 959 radioradio7 Canada Radio...\n",
              "186404    archive stream beatricedesteduc00cartuoft org ...\n",
              "                                ...                        \n",
              "6477                             GD lillyskitchentable qies\n",
              "117844    edu mit detail mitsloan php?in_spseqno=41459&c...\n",
              "73317                  en Battle_of_Sideling_Hill goldenmap\n",
              "111153    obituary posttribune trib ryan legacy obituari...\n",
              "132800                      pipl 200 directory name Hrivnak\n",
              "Name: url, Length: 155276, dtype: object"
            ]
          },
          "metadata": {
            "tags": []
          },
          "execution_count": 11
        }
      ]
    },
    {
      "cell_type": "markdown",
      "metadata": {
        "id": "I8pF1cK3fdYY"
      },
      "source": [
        "#### **TOKENIZING THE CV DATA**"
      ]
    },
    {
      "cell_type": "code",
      "metadata": {
        "colab": {
          "base_uri": "https://localhost:8080/"
        },
        "id": "wRZtVKCjfgJs",
        "outputId": "a189f519-60cb-4a40-e40e-e6708b1a8687"
      },
      "source": [
        "x_cv_tok = x_cv.apply(tokenizer)\r\n",
        "x_cv_tok"
      ],
      "execution_count": null,
      "outputs": [
        {
          "output_type": "execute_result",
          "data": {
            "text/plain": [
              "161129    bin cgi?op=REG&db=pierref&id=I5319 cgi wc igm ...\n",
              "111090                       ?page=rplistings leaseyourhome\n",
              "7673                lap GD index arcflashriskassessment php\n",
              "6530                             dbkunsult eu globalmarkets\n",
              "67048               dakotacooks champlin weinberg event max\n",
              "                                ...                        \n",
              "50219                       ate entrewave view htm pproject\n",
              "36378       space document drive word in filewords asenergy\n",
              "128241           ca openparliament jean politicians crowder\n",
              "176809                   allthelyrics wendy_matthews lyrics\n",
              "29448                       bell contact callmr html global\n",
              "Name: url, Length: 19170, dtype: object"
            ]
          },
          "metadata": {
            "tags": []
          },
          "execution_count": 12
        }
      ]
    },
    {
      "cell_type": "markdown",
      "metadata": {
        "id": "ohZLSCpkfgeH"
      },
      "source": [
        "#### **TOKENIZING THE TEST DATA**"
      ]
    },
    {
      "cell_type": "code",
      "metadata": {
        "colab": {
          "base_uri": "https://localhost:8080/"
        },
        "id": "kXzcw3hQfg-q",
        "outputId": "19657de5-e0d5-40a6-acef-6bc195314884"
      },
      "source": [
        "x_test_tok = x_test.apply(tokenizer)\r\n",
        "x_test_tok"
      ],
      "execution_count": null,
      "outputs": [
        {
          "output_type": "execute_result",
          "data": {
            "text/plain": [
              "55382     sports_college 06 html west smith orlandosenti...\n",
              "80414                     en wiki John_Ewasew org wikipedia\n",
              "118976                                  montrealadvertising\n",
              "4096       myhouselistingz 461b6eb2cf6cb5d64a063feb2e0b99fd\n",
              "151732                                      thirstywhaletoo\n",
              "                                ...                        \n",
              "186861    royalhouseofwind031195mbp archive stream royal...\n",
              "161444           chrisandjulie web HOME me html juliecmusic\n",
              "80346          en wiki Joe_Henderson_(runner) org wikipedia\n",
              "61721                                  blogspot cheektochic\n",
              "171203       Bruce_Hart_(wrestler) absoluteastronomy topics\n",
              "Name: url, Length: 17253, dtype: object"
            ]
          },
          "metadata": {
            "tags": []
          },
          "execution_count": 13
        }
      ]
    },
    {
      "cell_type": "markdown",
      "metadata": {
        "id": "ieoQPZkhgBE6"
      },
      "source": [
        "## **USING BAG-OF-WORDS (BOW) EMBEDDING**"
      ]
    },
    {
      "cell_type": "code",
      "metadata": {
        "colab": {
          "base_uri": "https://localhost:8080/"
        },
        "id": "V8TSeWCmf8-B",
        "outputId": "ad0a221e-777b-4be6-816e-ba5234c870c9"
      },
      "source": [
        "bow = CountVectorizer(stop_words='english',ngram_range=(1,1),max_features=10000)\r\n",
        "x_train_bow = bow.fit_transform(x_train_tok)\r\n",
        "x_cv_bow = bow.transform(x_cv_tok)\r\n",
        "x_test_bow = bow.transform(x_test_tok)\r\n",
        "print(\"Shape of Training Data after BOW embedding::\",x_train_bow.shape)\r\n",
        "print(\"Shape of CV Data after BOW embedding::\",x_cv_bow.shape)\r\n",
        "print(\"Shape of Test Data after BOW embedding::\",x_test_bow.shape)"
      ],
      "execution_count": null,
      "outputs": [
        {
          "output_type": "stream",
          "text": [
            "Shape of Training Data after BOW embedding:: (155276, 10000)\n",
            "Shape of CV Data after BOW embedding:: (19170, 10000)\n",
            "Shape of Test Data after BOW embedding:: (17253, 10000)\n"
          ],
          "name": "stdout"
        }
      ]
    },
    {
      "cell_type": "markdown",
      "metadata": {
        "id": "9YKRO3LCgI8k"
      },
      "source": [
        "## **USING TF-IDF EMBEDDING**"
      ]
    },
    {
      "cell_type": "code",
      "metadata": {
        "colab": {
          "base_uri": "https://localhost:8080/"
        },
        "id": "3qPPzyzMgQFF",
        "outputId": "8e509ea1-37e0-48ed-d286-fb1a9fed2a81"
      },
      "source": [
        "tfidf = TfidfVectorizer(stop_words='english',ngram_range=(1,1),max_features=10000)\r\n",
        "x_train_tfidf = tfidf.fit_transform(x_train_tok)\r\n",
        "x_cv_tfidf = tfidf.transform(x_cv_tok)\r\n",
        "x_test_tfidf = tfidf.transform(x_test_tok)\r\n",
        "print(\"Shape of Training Data after TFIDF embedding::\",x_train_tfidf.shape)\r\n",
        "print(\"Shape of CV Data after TFIDF embedding::\",x_cv_tfidf.shape)\r\n",
        "print(\"Shape of Test Data after TFIDF embedding::\",x_test_tfidf.shape)"
      ],
      "execution_count": null,
      "outputs": [
        {
          "output_type": "stream",
          "text": [
            "Shape of Training Data after TFIDF embedding:: (155276, 10000)\n",
            "Shape of CV Data after TFIDF embedding:: (19170, 10000)\n",
            "Shape of Test Data after TFIDF embedding:: (17253, 10000)\n"
          ],
          "name": "stdout"
        }
      ]
    },
    {
      "cell_type": "markdown",
      "metadata": {
        "id": "_bUhtnFtpLe_"
      },
      "source": [
        "## **STANDARDISING THE DATA**"
      ]
    },
    {
      "cell_type": "code",
      "metadata": {
        "id": "FZvwQ7fEpL7y"
      },
      "source": [
        "scale_bow = StandardScaler(with_mean=False)\r\n",
        "x_train_bow_std = scale_bow.fit_transform(x_train_bow)\r\n",
        "x_cv_bow_std = scale_bow.transform(x_cv_bow)\r\n",
        "x_test_bow_std = scale_bow.transform(x_test_bow)\r\n",
        "\r\n",
        "scale_tfidf = StandardScaler(with_mean=False)\r\n",
        "x_train_tfidf_std = scale_tfidf.fit_transform(x_train_tfidf)\r\n",
        "x_cv_tfidf_std = scale_tfidf.transform(x_cv_tfidf)\r\n",
        "x_test_tfidf_std = scale_tfidf.transform(x_test_tfidf)"
      ],
      "execution_count": null,
      "outputs": []
    },
    {
      "cell_type": "code",
      "metadata": {
        "id": "sZDGThMWWNWw"
      },
      "source": [
        "filename4 = '/content/drive/MyDrive/FCS_PROJECT/x_train_tok.pickle'\r\n",
        "pickle.dump(x_train_tok, open(filename4, 'wb'))"
      ],
      "execution_count": null,
      "outputs": []
    },
    {
      "cell_type": "code",
      "metadata": {
        "id": "EPxoSSO3Q2kr"
      },
      "source": [
        "import pickle\r\n",
        "filename3 = '/content/drive/MyDrive/FCS_PROJECT/x_train_vect.pickle'\r\n",
        "pickle.dump(x_train_tfidf, open(filename3, 'wb'))"
      ],
      "execution_count": null,
      "outputs": []
    },
    {
      "cell_type": "markdown",
      "metadata": {
        "id": "SRi8djbYtJUS"
      },
      "source": [
        "# **APPLYING DECISION TREE**"
      ]
    },
    {
      "cell_type": "code",
      "metadata": {
        "id": "Iwf4Qn5FtNUq"
      },
      "source": [
        "def dtree(train,trainlab,cv,cvlab):\r\n",
        "  from tqdm import tqdm\r\n",
        "  depth=[150,200,250,300,350,400]\r\n",
        "  prec=[]\r\n",
        "  recall=[]\r\n",
        "  f1score=[]\r\n",
        "  for d in tqdm(depth,leave=True,position=0):\r\n",
        "    dt = DecisionTreeClassifier(max_depth=d,random_state=0)\r\n",
        "    dt.fit(train,trainlab)\r\n",
        "    preds = dt.predict(cv)\r\n",
        "    prec.append(precision_score([int(x) for x in cvlab.values],[int(x) for x in preds]))\r\n",
        "    recall.append(recall_score([int(x) for x in cvlab.values],[int(x) for x in preds]))\r\n",
        "    f1score.append(f1_score([int(x) for x in cvlab.values],[int(x) for x in preds]))\r\n",
        "  return depth,prec,recall,f1score"
      ],
      "execution_count": null,
      "outputs": []
    },
    {
      "cell_type": "markdown",
      "metadata": {
        "id": "qAU549uM_Lfc"
      },
      "source": [
        "#### **BOW EMBEDDING**"
      ]
    },
    {
      "cell_type": "code",
      "metadata": {
        "colab": {
          "base_uri": "https://localhost:8080/"
        },
        "id": "xdtaFWAW_PGB",
        "outputId": "e6aa3231-4a59-4481-baf7-425be797a078"
      },
      "source": [
        "depth,prec_dt_bow,recall_dt_bow,f1score_dt_bow = dtree(x_train_bow,y_train,x_cv_bow,y_cv)"
      ],
      "execution_count": null,
      "outputs": [
        {
          "output_type": "stream",
          "text": [
            "100%|██████████| 6/6 [00:34<00:00,  5.67s/it]\n"
          ],
          "name": "stderr"
        }
      ]
    },
    {
      "cell_type": "markdown",
      "metadata": {
        "id": "uYuwzAgf_Pfh"
      },
      "source": [
        "#### **TFIDF EMBEDDING**"
      ]
    },
    {
      "cell_type": "code",
      "metadata": {
        "colab": {
          "base_uri": "https://localhost:8080/"
        },
        "id": "JPaSoNUP_P1n",
        "outputId": "195a44ab-9bd0-4f60-f596-19d2a4152f6a"
      },
      "source": [
        "depth,prec_dt_tfidf,recall_dt_tfidf,f1score_dt_tfidf = dtree(x_train_tfidf,y_train,x_cv_tfidf,y_cv)"
      ],
      "execution_count": null,
      "outputs": [
        {
          "output_type": "stream",
          "text": [
            "100%|██████████| 6/6 [01:17<00:00, 12.84s/it]\n"
          ],
          "name": "stderr"
        }
      ]
    },
    {
      "cell_type": "markdown",
      "metadata": {
        "id": "5N7XHr4GtOIq"
      },
      "source": [
        "## **RESULTS ON CV DATA (DT)**"
      ]
    },
    {
      "cell_type": "markdown",
      "metadata": {
        "id": "-gqQyVAGGau2"
      },
      "source": [
        "#### **Optimal Value at depth=400;F1 score = 0.9009; BOW Embedding**"
      ]
    },
    {
      "cell_type": "code",
      "metadata": {
        "colab": {
          "base_uri": "https://localhost:8080/",
          "height": 362
        },
        "id": "kH1LdtbqtOIr",
        "outputId": "a2acc30d-c223-42bf-dcbf-203abfbcdc1c"
      },
      "source": [
        "plt.plot(prec_dt_bow,label=\"Precision\")\r\n",
        "plt.plot(recall_dt_bow,label=\"Recall\")\r\n",
        "plt.plot(f1score_dt_bow,label=\"f1-score\")\r\n",
        "plt.xticks([x for x in range(6)],['150','200','250','300','350','400'])\r\n",
        "plt.xlabel(\"VALUE of DEPTH\")\r\n",
        "plt.ylabel(\"PERFORMANCE ON CV DATA\")\r\n",
        "plt.grid(linestyle='-')\r\n",
        "plt.title(\"RESULTS ON CV DATA - DECISION TREE - BOW EMBEDDING\")\r\n",
        "plt.legend()\r\n",
        "plt.show()\r\n",
        "print(prec_dt_bow)\r\n",
        "print(recall_dt_bow)\r\n",
        "print(f1score_dt_bow)\r\n",
        "print(depth)"
      ],
      "execution_count": null,
      "outputs": [
        {
          "output_type": "display_data",
          "data": {
            "image/png": "[encoded data removed]",
            "text/plain": [
              "<Figure size 432x288 with 1 Axes>"
            ]
          },
          "metadata": {
            "tags": [],
            "needs_background": "light"
          }
        },
        {
          "output_type": "stream",
          "text": [
            "[0.9571030640668524, 0.9557165861513688, 0.958156779661017, 0.9543557642149192, 0.9519527235354573, 0.9493638676844783]\n",
            "[0.8033668459200374, 0.8325929389759177, 0.8459200374093991, 0.8555061959317278, 0.8662613981762918, 0.8723404255319149]\n",
            "[0.8735223083767636, 0.8899162813944771, 0.8985471252949212, 0.9022315374183209, 0.9070877708409842, 0.9092238333130254]\n",
            "[150, 200, 250, 300, 350, 400]\n"
          ],
          "name": "stdout"
        }
      ]
    },
    {
      "cell_type": "markdown",
      "metadata": {
        "id": "0Z10dVY3GxEr"
      },
      "source": [
        "#### **Optimal Value at depth=400 ;F1 score =0.9123 ; TFIDF Embedding**"
      ]
    },
    {
      "cell_type": "code",
      "metadata": {
        "colab": {
          "base_uri": "https://localhost:8080/",
          "height": 362
        },
        "id": "FkaVHfV7Gx5E",
        "outputId": "36d81c9c-fecf-43d5-abb2-1a8092d58614"
      },
      "source": [
        "plt.plot(prec_dt_tfidf,label=\"Precision\")\r\n",
        "plt.plot(recall_dt_tfidf,label=\"Recall\")\r\n",
        "plt.plot(f1score_dt_tfidf,label=\"F1-score\")\r\n",
        "plt.xticks([x for x in range(6)],['150','200','250','300','350','400'])\r\n",
        "plt.xlabel(\"VALUE of DEPTH\")\r\n",
        "plt.ylabel(\"PERFORMANCE ON CV DATA\")\r\n",
        "plt.grid(linestyle='-')\r\n",
        "plt.title(\"RESULTS ON CV DATA - DECISION TREE - TFIDF EMBEDDING\")\r\n",
        "plt.legend()\r\n",
        "plt.show()\r\n",
        "print(prec_dt_tfidf)\r\n",
        "print(recall_dt_tfidf)\r\n",
        "print(f1score_dt_tfidf)\r\n",
        "print(depth)"
      ],
      "execution_count": null,
      "outputs": [
        {
          "output_type": "display_data",
          "data": {
            "image/png": "[encoded data removed]",
            "text/plain": [
              "<Figure size 432x288 with 1 Axes>"
            ]
          },
          "metadata": {
            "tags": [],
            "needs_background": "light"
          }
        },
        {
          "output_type": "stream",
          "text": [
            "[0.9527322404371584, 0.9516600265604249, 0.9491173416407062, 0.9494223363286265, 0.9483854563946097, 0.9487503155768745]\n",
            "[0.8152910918868366, 0.8377367313537526, 0.8548047696983867, 0.8646247369651625, 0.8721066167874678, 0.878653261631985]\n",
            "[0.8786695224896057, 0.8910718726684903, 0.8994956329191782, 0.9050416054821342, 0.9086479902557856, 0.912357368293275]\n",
            "[150, 200, 250, 300, 350, 400]\n"
          ],
          "name": "stdout"
        }
      ]
    },
    {
      "cell_type": "markdown",
      "metadata": {
        "id": "LvwV8ODmXOxV"
      },
      "source": [
        "# **APPLYING RANDOM FOREST**"
      ]
    },
    {
      "cell_type": "code",
      "metadata": {
        "id": "07yNMRjXXPS1"
      },
      "source": [
        "def rand_fors(train,trainlab,cv,cvlab):\r\n",
        "  depth=[250,300,350,400,450,500,600,700]\r\n",
        "  prec=[]\r\n",
        "  recall=[]\r\n",
        "  f1score=[]\r\n",
        "  for d in tqdm(depth,leave=True,position=0):\r\n",
        "    rf = RandomForestClassifier(n_estimators = 100,max_depth=d,random_state=0)\r\n",
        "    rf.fit(train,trainlab)\r\n",
        "    preds = rf.predict(cv)\r\n",
        "    prec.append(precision_score([int(x) for x in cvlab.values],[int(x) for x in preds]))\r\n",
        "    recall.append(recall_score([int(x) for x in cvlab.values],[int(x) for x in preds]))\r\n",
        "    f1score.append(f1_score([int(x) for x in cvlab.values],[int(x) for x in preds]))\r\n",
        "  return depth,prec,recall,f1score"
      ],
      "execution_count": null,
      "outputs": []
    },
    {
      "cell_type": "markdown",
      "metadata": {
        "id": "sApo26uBXPrh"
      },
      "source": [
        "#### **BOW EMBEDDING**"
      ]
    },
    {
      "cell_type": "code",
      "metadata": {
        "colab": {
          "base_uri": "https://localhost:8080/"
        },
        "id": "yKUtD2ePXQP7",
        "outputId": "e659e316-cc8f-462f-b04b-b00445fcaa99"
      },
      "source": [
        "depth,prec_rf_bow,recall_rf_bow,f1score_rf_bow = rand_fors(x_train_bow,y_train,x_cv_bow,y_cv)"
      ],
      "execution_count": null,
      "outputs": [
        {
          "output_type": "stream",
          "text": [
            "100%|██████████| 8/8 [11:09<00:00, 83.66s/it]\n"
          ],
          "name": "stderr"
        }
      ]
    },
    {
      "cell_type": "markdown",
      "metadata": {
        "id": "FmmR0fawX9EL"
      },
      "source": [
        "#### **TFIDF EMBEDDING**"
      ]
    },
    {
      "cell_type": "code",
      "metadata": {
        "colab": {
          "base_uri": "https://localhost:8080/"
        },
        "id": "6xdOaVf1X9Ze",
        "outputId": "107c6c8e-1d47-474f-e7c0-b35c3ef48a89"
      },
      "source": [
        "depth,prec_rf_tfidf,recall_rf_tfidf,f1score_rf_tfidf = rand_fors(x_train_tfidf,y_train,x_cv_tfidf,y_cv)"
      ],
      "execution_count": null,
      "outputs": [
        {
          "output_type": "stream",
          "text": [
            "100%|██████████| 8/8 [11:31<00:00, 86.49s/it]\n"
          ],
          "name": "stderr"
        }
      ]
    },
    {
      "cell_type": "markdown",
      "metadata": {
        "id": "1J9AnmYaYf8y"
      },
      "source": [
        "## **RESULTS ON CV DATA (RANDOM FOREST)**"
      ]
    },
    {
      "cell_type": "markdown",
      "metadata": {
        "id": "uzOR8uS-Yupb"
      },
      "source": [
        "#### **Optimal value at depth=700 ; F1score =0.9263  ; BOW Embedding**"
      ]
    },
    {
      "cell_type": "code",
      "metadata": {
        "colab": {
          "base_uri": "https://localhost:8080/",
          "height": 382
        },
        "id": "bYg6_8KtYEcV",
        "outputId": "b36c7f90-219d-417d-9544-f3ae7017bd04"
      },
      "source": [
        "plt.plot(prec_rf_bow,label=\"Precision\")\r\n",
        "plt.plot(recall_rf_bow,label=\"Recall\")\r\n",
        "plt.plot(f1score_rf_bow,label=\"F1-score\")\r\n",
        "plt.xticks([x for x in range(8)],['250','300','350','400','450','500','600','700'])\r\n",
        "plt.xlabel(\"DEPTH\")\r\n",
        "plt.ylabel(\"PERFORMANCE ON CV DATA\")\r\n",
        "plt.grid(linestyle='-')\r\n",
        "plt.title(\"RESULTS ON CV DATA - RANDOM FOREST - BOW EMBEDDING\")\r\n",
        "plt.legend()\r\n",
        "plt.show()\r\n",
        "print(prec_rf_bow)\r\n",
        "print(recall_rf_bow)\r\n",
        "print(f1score_rf_bow)\r\n",
        "print(depth)"
      ],
      "execution_count": null,
      "outputs": [
        {
          "output_type": "display_data",
          "data": {
            "image/png": "[encoded data removed]",
            "text/plain": [
              "<Figure size 432x288 with 1 Axes>"
            ]
          },
          "metadata": {
            "tags": [],
            "needs_background": "light"
          }
        },
        {
          "output_type": "stream",
          "text": [
            "[0.9660790598290598, 0.9632738719832109, 0.9627521986549405, 0.9610855094726063, 0.9586294416243655, 0.9540085448605177, 0.9520276953511375, 0.9483223120254715]\n",
            "[0.845686228664952, 0.8585457096095394, 0.8702361468318915, 0.8777180266541968, 0.8830956277764789, 0.8875379939209727, 0.900163666121113, 0.9053074584989479]\n",
            "[0.9018825582845031, 0.907899616763506, 0.9141594007122682, 0.917511914945619, 0.9193136181087987, 0.9195736434108527, 0.9253695469294557, 0.9263157894736843]\n",
            "[250, 300, 350, 400, 450, 500, 600, 700]\n"
          ],
          "name": "stdout"
        }
      ]
    },
    {
      "cell_type": "markdown",
      "metadata": {
        "id": "2d29z5sqZXAr"
      },
      "source": [
        "#### **Optimal value at depth=700 ; F1score = 0.931 ; TFIDF Embedding**"
      ]
    },
    {
      "cell_type": "code",
      "metadata": {
        "colab": {
          "base_uri": "https://localhost:8080/",
          "height": 382
        },
        "id": "lmKElDs9YEJ1",
        "outputId": "c03b5b9e-ad55-452f-ff1f-5424628c7724"
      },
      "source": [
        "plt.plot(prec_rf_tfidf,label=\"Precision\")\r\n",
        "plt.plot(recall_rf_tfidf,label=\"Recall\")\r\n",
        "plt.plot(f1score_rf_tfidf,label=\"F1-score\")\r\n",
        "plt.xticks([x for x in range(8)],['250','300','350','400','450','500','600','700'])\r\n",
        "plt.xlabel(\"DEPTH\")\r\n",
        "plt.ylabel(\"PERFORMANCE ON CV DATA\")\r\n",
        "plt.grid(linestyle='-')\r\n",
        "plt.title(\"RESULTS ON CV DATA - RANDOM FOREST - TFIDF EMBEDDING\")\r\n",
        "plt.legend()\r\n",
        "plt.show()\r\n",
        "print(prec_rf_tfidf)\r\n",
        "print(recall_rf_tfidf)\r\n",
        "print(f1score_rf_tfidf)\r\n",
        "print(depth)"
      ],
      "execution_count": null,
      "outputs": [
        {
          "output_type": "display_data",
          "data": {
            "image/png": "[encoded data removed]",
            "text/plain": [
              "<Figure size 432x288 with 1 Axes>"
            ]
          },
          "metadata": {
            "tags": [],
            "needs_background": "light"
          }
        },
        {
          "output_type": "stream",
          "text": [
            "[0.9639065817409767, 0.9639780736100235, 0.961835997937081, 0.961941251596424, 0.9604261796042618, 0.9599496221662468, 0.9595606590114828, 0.9591179385530227]\n",
            "[0.8491933598316577, 0.8634556932429273, 0.8721066167874678, 0.8805237315875614, 0.8851999064765023, 0.8910451250876783, 0.8987608136544307, 0.9050736497545008]\n",
            "[0.9029210689869483, 0.9109521460286136, 0.9147762109135499, 0.9194335937499999, 0.9212799610658231, 0.9242148660118831, 0.928166123385247, 0.9313124022615181]\n",
            "[250, 300, 350, 400, 450, 500, 600, 700]\n"
          ],
          "name": "stdout"
        }
      ]
    },
    {
      "cell_type": "markdown",
      "metadata": {
        "id": "WSda2qSFr3mR"
      },
      "source": [
        "# **APPLYING LOGISTIC REGRESSION**"
      ]
    },
    {
      "cell_type": "code",
      "metadata": {
        "id": "sruFp2bDY7ah"
      },
      "source": [
        "def log_reg(train,trainlab,cv,cvlab):\r\n",
        "  c=[0.00001,0.0001,0.001,0.01,0.1,1,10,100,1000,10000]\r\n",
        "  prec=[]\r\n",
        "  recall=[]\r\n",
        "  f1score=[]\r\n",
        "  for c_val in c:\r\n",
        "    lr = LogisticRegression(C=c_val,random_state=0)\r\n",
        "    lr.fit(train,trainlab)\r\n",
        "    preds = lr.predict(cv)\r\n",
        "    prec.append(precision_score([int(x) for x in cvlab.values],[int(x) for x in preds]))\r\n",
        "    recall.append(recall_score([int(x) for x in cvlab.values],[int(x) for x in preds]))\r\n",
        "    f1score.append(f1_score([int(x) for x in cvlab.values],[int(x) for x in preds]))\r\n",
        "  return c,prec,recall,f1score"
      ],
      "execution_count": null,
      "outputs": []
    },
    {
      "cell_type": "markdown",
      "metadata": {
        "id": "AOHCGnxLvr14"
      },
      "source": [
        "#### **BOW EMBEDDING**"
      ]
    },
    {
      "cell_type": "code",
      "metadata": {
        "id": "Dix5RfIIoRMK"
      },
      "source": [
        "c,prec_lr_bow,recall_lr_bow,f1score_lr_bow = log_reg(x_train_bow_std,y_train,x_cv_bow_std,y_cv)"
      ],
      "execution_count": null,
      "outputs": []
    },
    {
      "cell_type": "markdown",
      "metadata": {
        "id": "hjGFj8Yuvuit"
      },
      "source": [
        "#### **TF-IDF EMBEDDING**"
      ]
    },
    {
      "cell_type": "code",
      "metadata": {
        "id": "eHnIgU3WTPcn"
      },
      "source": [
        "c,prec_lr_tfidf,recall_lr_tfidf,f1score_lr_tfidf = log_reg(x_train_tfidf_std,y_train,x_cv_tfidf_std,y_cv)"
      ],
      "execution_count": null,
      "outputs": []
    },
    {
      "cell_type": "markdown",
      "metadata": {
        "id": "lzVyf0MSr9Vx"
      },
      "source": [
        "## **RESULTS ON CV DATA (LOGISTIC REGRESSION)**"
      ]
    },
    {
      "cell_type": "markdown",
      "metadata": {
        "id": "yboeByYrXpFo"
      },
      "source": [
        "#### **Optimal value at c=0.01 ; F1score = 0.9340 ; BOW Embedding**\r\n",
        "\r\n"
      ]
    },
    {
      "cell_type": "code",
      "metadata": {
        "colab": {
          "base_uri": "https://localhost:8080/",
          "height": 382
        },
        "id": "4HlUPZwcsHU5",
        "outputId": "663f4dfe-0536-432b-c5f1-5b1cc005d65b"
      },
      "source": [
        "plt.plot(prec_lr_bow,label=\"Precision\")\r\n",
        "plt.plot(recall_lr_bow,label=\"Recall\")\r\n",
        "plt.plot(f1score_lr_bow,label=\"F1-score\")\r\n",
        "plt.xticks([x for x in range(10)],['10^-5','10^-4','10^-3','10^-2','0.1','1','10','100','1000','10000'])\r\n",
        "plt.xlabel(\"VALUE of C\")\r\n",
        "plt.ylabel(\"PERFORMANCE ON CV DATA\")\r\n",
        "plt.grid(linestyle='-')\r\n",
        "plt.title(\"RESULTS ON CV DATA - LOGISTIC REGRESSION - BOW EMBEDDING\")\r\n",
        "plt.legend()\r\n",
        "plt.show()\r\n",
        "print(prec_lr_bow)\r\n",
        "print(recall_lr_bow)\r\n",
        "print(f1score_lr_bow)\r\n",
        "print(c)"
      ],
      "execution_count": null,
      "outputs": [
        {
          "output_type": "display_data",
          "data": {
            "image/png": "[encoded data removed]",
            "text/plain": [
              "<Figure size 432x288 with 1 Axes>"
            ]
          },
          "metadata": {
            "tags": [],
            "needs_background": "light"
          }
        },
        {
          "output_type": "stream",
          "text": [
            "[0.999540018399264, 0.9887963228957196, 0.971501272264631, 0.9607019278299556, 0.9569389763779528, 0.9552715654952076, 0.9541554302525129, 0.9546346248160863, 0.9546346248160863, 0.9544005883795048]\n",
            "[0.508066401683423, 0.8047696983867196, 0.8926817862988076, 0.9088145896656535, 0.9092822071545476, 0.9088145896656535, 0.9099836333878887, 0.9102174421323358, 0.9102174421323358, 0.9102174421323358]\n",
            "[0.6736940009300885, 0.8873420984789895, 0.9304252467405872, 0.9340382073771478, 0.9325020980697758, 0.9314641744548287, 0.9315461943513643, 0.9318970676241771, 0.9318970676241771, 0.9317855433221637]\n",
            "[1e-05, 0.0001, 0.001, 0.01, 0.1, 1, 10, 100, 1000, 10000]\n"
          ],
          "name": "stdout"
        }
      ]
    },
    {
      "cell_type": "markdown",
      "metadata": {
        "id": "PiZxdFWwbSRy"
      },
      "source": [
        "#### **Optimal value at c=0.001 ; F1score = 0.9346 ; TFIDF Embedding**"
      ]
    },
    {
      "cell_type": "code",
      "metadata": {
        "colab": {
          "base_uri": "https://localhost:8080/",
          "height": 382
        },
        "id": "gXqDjf8LsIac",
        "outputId": "36227586-8643-4481-f5d1-6daa616d7f17"
      },
      "source": [
        "plt.plot(prec_lr_tfidf,label=\"Precision\")\r\n",
        "plt.plot(recall_lr_tfidf,label=\"Recall\")\r\n",
        "plt.plot(f1score_lr_tfidf,label=\"F1-score\")\r\n",
        "plt.xticks([x for x in range(10)],['10^-5','10^-4','10^-3','10^-2','0.1','1','10','100','1000','10000'])\r\n",
        "plt.xlabel(\"VALUE of C\")\r\n",
        "plt.ylabel(\"PERFORMANCE ON CV DATA\")\r\n",
        "plt.grid(linestyle='-')\r\n",
        "plt.title(\"RESULTS ON CV DATA - LOGISTIC REGRESSION - TFIDF EMBEDDING\")\r\n",
        "plt.legend()\r\n",
        "plt.show()\r\n",
        "print(prec_lr_tfidf)\r\n",
        "print(recall_lr_tfidf)\r\n",
        "print(f1score_lr_tfidf)\r\n",
        "print(c)"
      ],
      "execution_count": null,
      "outputs": [
        {
          "output_type": "display_data",
          "data": {
            "image/png": "[encoded data removed]",
            "text/plain": [
              "<Figure size 432x288 with 1 Axes>"
            ]
          },
          "metadata": {
            "tags": [],
            "needs_background": "light"
          }
        },
        {
          "output_type": "stream",
          "text": [
            "[0.999187982135607, 0.9823218997361478, 0.9644367072867446, 0.9571955719557196, 0.9532550171316692, 0.948368241597662, 0.9462548638132295, 0.9457948468643655, 0.9455650060753341, 0.9460510328068044]\n",
            "[0.5754033200841712, 0.8704699555763385, 0.9067103109656302, 0.9097498246434417, 0.9106850596212298, 0.9104512508767828, 0.9097498246434417, 0.9097498246434417, 0.9097498246434417, 0.9102174421323358]\n",
            "[0.7302670623145401, 0.9230197099293418, 0.9346830561581103, 0.9328698153919923, 0.9314839172545737, 0.9290230227842061, 0.9276433424722852, 0.9274222381122632, 0.9273117254528122, 0.9277883698760725]\n",
            "[1e-05, 0.0001, 0.001, 0.01, 0.1, 1, 10, 100, 1000, 10000]\n"
          ],
          "name": "stdout"
        }
      ]
    },
    {
      "cell_type": "markdown",
      "metadata": {
        "id": "EUwoC6ev4hhA"
      },
      "source": [
        "## **SAVING THE OPTIMAL MODEL**"
      ]
    },
    {
      "cell_type": "code",
      "metadata": {
        "colab": {
          "base_uri": "https://localhost:8080/"
        },
        "id": "0tXsd5ql4iHW",
        "outputId": "4afd752e-931e-446d-aa85-145d4db30910"
      },
      "source": [
        "lr_opt = LogisticRegression(C=0.001,random_state=0)\r\n",
        "lr_opt.fit(x_train_tfidf_std,y_train)\r\n",
        "preds_cv = lr_opt.predict(x_cv_tfidf_std)\r\n",
        "preds_test = lr_opt.predict(x_test_tfidf_std)\r\n",
        "print(\"Precison On CV Data::\",precision_score([int(x) for x in y_cv.values],[int(x) for x in preds_cv]))\r\n",
        "print(\"Recall On CV Data::\",recall_score([int(x) for x in y_cv.values],[int(x) for x in preds_cv]))\r\n",
        "print(\"F1-Score On CV Data::\",f1_score([int(x) for x in y_cv.values],[int(x) for x in preds_cv]))\r\n",
        "print(\"Precison On TEST Data::\",precision_score([int(x) for x in y_test.values],[int(x) for x in preds_test]))\r\n",
        "print(\"Recall On TEST Data::\",recall_score([int(x) for x in y_test.values],[int(x) for x in preds_test]))\r\n",
        "print(\"F1-Score On TEST Data::\",f1_score([int(x) for x in y_test.values],[int(x) for x in preds_test]))"
      ],
      "execution_count": null,
      "outputs": [
        {
          "output_type": "stream",
          "text": [
            "Precison On CV Data:: 0.9644367072867446\n",
            "Recall On CV Data:: 0.9067103109656302\n",
            "F1-Score On CV Data:: 0.9346830561581103\n",
            "Precison On TEST Data:: 0.9658263305322129\n",
            "Recall On TEST Data:: 0.8958170953494414\n",
            "F1-Score On TEST Data:: 0.9295053241676775\n"
          ],
          "name": "stdout"
        }
      ]
    },
    {
      "cell_type": "code",
      "metadata": {
        "id": "Rtxj2-tS6Njs"
      },
      "source": [
        "import pickle\r\n",
        "filename = '/content/drive/MyDrive/FCS_PROJECT/optimal_lr.h5'\r\n",
        "pickle.dump(lr_opt, open(filename, 'wb'))"
      ],
      "execution_count": null,
      "outputs": []
    }
  ]
}