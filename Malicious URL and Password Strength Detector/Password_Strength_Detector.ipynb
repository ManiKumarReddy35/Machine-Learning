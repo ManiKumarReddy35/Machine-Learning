{
 "cells": [
  {
   "cell_type": "code",
   "execution_count": 1,
   "metadata": {},
   "outputs": [],
   "source": [
    "import numpy as np\n",
    "import pandas as pd\n",
    "import matplotlib.pyplot as plt\n",
    "\n",
    "from sklearn.metrics import accuracy_score\n",
    "from sklearn.metrics import f1_score\n",
    "from sklearn.model_selection import train_test_split\n",
    "from sklearn.feature_extraction.text import CountVectorizer\n",
    "from sklearn.linear_model import LogisticRegression\n",
    "from sklearn.svm import SVC"
   ]
  },
  {
   "cell_type": "markdown",
   "metadata": {},
   "source": [
    "### Reading the dataset"
   ]
  },
  {
   "cell_type": "code",
   "execution_count": 100,
   "metadata": {},
   "outputs": [
    {
     "data": {
      "text/html": [
       "<div>\n",
       "<style scoped>\n",
       "    .dataframe tbody tr th:only-of-type {\n",
       "        vertical-align: middle;\n",
       "    }\n",
       "\n",
       "    .dataframe tbody tr th {\n",
       "        vertical-align: top;\n",
       "    }\n",
       "\n",
       "    .dataframe thead th {\n",
       "        text-align: right;\n",
       "    }\n",
       "</style>\n",
       "<table border=\"1\" class=\"dataframe\">\n",
       "  <thead>\n",
       "    <tr style=\"text-align: right;\">\n",
       "      <th></th>\n",
       "      <th>password</th>\n",
       "      <th>new_strength</th>\n",
       "    </tr>\n",
       "  </thead>\n",
       "  <tbody>\n",
       "    <tr>\n",
       "      <th>0</th>\n",
       "      <td>kzde5577</td>\n",
       "      <td>0</td>\n",
       "    </tr>\n",
       "    <tr>\n",
       "      <th>1</th>\n",
       "      <td>kino3434</td>\n",
       "      <td>0</td>\n",
       "    </tr>\n",
       "    <tr>\n",
       "      <th>2</th>\n",
       "      <td>visi7k1yr</td>\n",
       "      <td>0</td>\n",
       "    </tr>\n",
       "    <tr>\n",
       "      <th>3</th>\n",
       "      <td>megzy123</td>\n",
       "      <td>0</td>\n",
       "    </tr>\n",
       "    <tr>\n",
       "      <th>4</th>\n",
       "      <td>lamborghin1</td>\n",
       "      <td>1</td>\n",
       "    </tr>\n",
       "  </tbody>\n",
       "</table>\n",
       "</div>"
      ],
      "text/plain": [
       "      password  new_strength\n",
       "0     kzde5577             0\n",
       "1     kino3434             0\n",
       "2    visi7k1yr             0\n",
       "3     megzy123             0\n",
       "4  lamborghin1             1"
      ]
     },
     "execution_count": 100,
     "metadata": {},
     "output_type": "execute_result"
    }
   ],
   "source": [
    "passwords_data = pd.read_csv('new_password_data.csv')\n",
    "passwords_data.drop(columns=['strength'], inplace=True)\n",
    "passwords_data.head()"
   ]
  },
  {
   "cell_type": "code",
   "execution_count": 4,
   "metadata": {},
   "outputs": [
    {
     "data": {
      "image/png": "[encoded data removed]",
      "text/plain": [
       "<Figure size 432x288 with 1 Axes>"
      ]
     },
     "metadata": {
      "needs_background": "light"
     },
     "output_type": "display_data"
    }
   ],
   "source": [
    "passwords_data['new_strength'].value_counts().plot(kind='bar')\n",
    "plt.title('Data Distribution of passwords')\n",
    "plt.xticks(np.arange(3), ['weak', 'medium', 'strong'])\n",
    "plt.show()\n",
    "\n",
    "# most of the passwords are medium"
   ]
  },
  {
   "cell_type": "markdown",
   "metadata": {},
   "source": [
    "### Some passwords from each category"
   ]
  },
  {
   "cell_type": "code",
   "execution_count": 102,
   "metadata": {},
   "outputs": [
    {
     "name": "stdout",
     "output_type": "stream",
     "text": [
      "   password  new_strength\n",
      "0  kzde5577             0\n",
      "1  kino3434             0\n",
      "------------------------------\n",
      "       password  new_strength\n",
      "4   lamborghin1             1\n",
      "8  universe2908             1\n",
      "------------------------------\n",
      "            password  new_strength\n",
      "5   AVYq1lDE4MgAZfNt             2\n",
      "13  WUt9IZzE0OQ7PkNE             2\n",
      "------------------------------\n"
     ]
    }
   ],
   "source": [
    "for i in range(3) :\n",
    "    print(passwords_data[passwords_data['new_strength'] == i].head(2))\n",
    "    print('-'*30)"
   ]
  },
  {
   "cell_type": "markdown",
   "metadata": {},
   "source": [
    "### Splitting the data into train test split"
   ]
  },
  {
   "cell_type": "code",
   "execution_count": 6,
   "metadata": {},
   "outputs": [],
   "source": [
    "\n",
    "X_train, X_test, y_train, y_test = train_test_split(passwords_data['password'], passwords_data['new_strength'], test_size=0.3, random_state=42, stratify=passwords_data['new_strength'])\n",
    "\n"
   ]
  },
  {
   "cell_type": "code",
   "execution_count": 7,
   "metadata": {},
   "outputs": [
    {
     "data": {
      "image/png": "[encoded data removed]",
      "text/plain": [
       "<Figure size 432x288 with 1 Axes>"
      ]
     },
     "metadata": {
      "needs_background": "light"
     },
     "output_type": "display_data"
    }
   ],
   "source": [
    "y_train.value_counts().plot(kind='bar')\n",
    "plt.title('Training data distribution')\n",
    "plt.xticks(np.arange(3), ['weak', 'medium', 'strong'])\n",
    "plt.show()"
   ]
  },
  {
   "cell_type": "code",
   "execution_count": 8,
   "metadata": {},
   "outputs": [
    {
     "data": {
      "image/png": "[encoded data removed]",
      "text/plain": [
       "<Figure size 432x288 with 1 Axes>"
      ]
     },
     "metadata": {
      "needs_background": "light"
     },
     "output_type": "display_data"
    }
   ],
   "source": [
    "y_test.value_counts().plot(kind='bar')\n",
    "plt.title('Testing data distribution')\n",
    "plt.xticks(np.arange(3), ['weak', 'medium', 'strong'])\n",
    "plt.show()"
   ]
  },
  {
   "cell_type": "markdown",
   "metadata": {},
   "source": [
    "### BOW approach"
   ]
  },
  {
   "cell_type": "code",
   "execution_count": 9,
   "metadata": {},
   "outputs": [],
   "source": [
    "\n",
    "bow_vec = CountVectorizer(analyzer='char')\n",
    "\n",
    "Xtrain_bow = bow_vec.fit_transform(X_train)\n",
    "Xtest_bow = bow_vec.transform(X_test)\n",
    "\n",
    "with open('Xtrain.pkl', 'wb') as f :\n",
    "    pickle.dump(X_train, f)"
   ]
  },
  {
   "cell_type": "code",
   "execution_count": 10,
   "metadata": {},
   "outputs": [
    {
     "name": "stdout",
     "output_type": "stream",
     "text": [
      "Training Data Shape :  (75297, 96)\n",
      "Testing Data Shape :  (32271, 96)\n"
     ]
    }
   ],
   "source": [
    "print('Training Data Shape : ', Xtrain_bow.shape)\n",
    "print('Testing Data Shape : ', Xtest_bow.shape)\n"
   ]
  },
  {
   "cell_type": "markdown",
   "metadata": {},
   "source": [
    "### Model 1 : Logistic Regression"
   ]
  },
  {
   "cell_type": "code",
   "execution_count": 61,
   "metadata": {},
   "outputs": [],
   "source": [
    "from sklearn.metrics import precision_score\n",
    "from sklearn.metrics import recall_score\n",
    "    \n",
    "c_vals = [0.001, 0.01, 0.1, 1, 10, 100, 1000]\n",
    "accs_lr = []\n",
    "prec_lr = []\n",
    "rec_lr = []\n",
    "f_scores_lr = []\n",
    "\n",
    "for c in c_vals :\n",
    "    \n",
    "    log_reg_bow = LogisticRegression(penalty='l2', multi_class='ovr', max_iter=1000, C=c)\n",
    "    log_reg_bow.fit(Xtrain_bow, y_train)\n",
    "    \n",
    "    \n",
    "\n",
    "    ytest_bow_pred = log_reg_bow.predict(Xtest_bow)\n",
    "    \n",
    "    accs_lr.append(accuracy_score(y_test, ytest_bow_pred))\n",
    "    f_scores_lr.append(f1_score(y_test, ytest_bow_pred, average='macro'))\n",
    "    prec_lr.append(precision_score(y_test, ytest_bow_pred, average='macro'))\n",
    "    rec_lr.append(recall_score(y_test, ytest_bow_pred, average='macro'))\n",
    "    \n",
    "    "
   ]
  },
  {
   "cell_type": "code",
   "execution_count": 85,
   "metadata": {},
   "outputs": [
    {
     "data": {
      "image/png": "[encoded data removed]",
      "text/plain": [
       "<Figure size 432x288 with 1 Axes>"
      ]
     },
     "metadata": {
      "needs_background": "light"
     },
     "output_type": "display_data"
    }
   ],
   "source": [
    "plt.plot(accs_lr, label='Accuracy')\n",
    "plt.plot(prec_lr, label='precision')\n",
    "plt.plot(rec_lr, label='Recall')\n",
    "plt.plot(f_scores_lr, label='F-score')\n",
    "\n",
    "plt.xticks(np.arange(7), c_vals)\n",
    "plt.legend(loc='best')\n",
    "plt.xlabel('C values')\n",
    "plt.ylabel('Metrics Score')\n",
    "plt.grid()\n",
    "plt.title('Logistic Regression on CV data With BOW Embeddings')\n",
    "plt.show()"
   ]
  },
  {
   "cell_type": "markdown",
   "metadata": {},
   "source": [
    "###  Best Model with C=1"
   ]
  },
  {
   "cell_type": "code",
   "execution_count": 103,
   "metadata": {},
   "outputs": [
    {
     "name": "stdout",
     "output_type": "stream",
     "text": [
      "------------------------------\n",
      "Accuracy of Testing data:  0.8745003253695268\n",
      "Precision of Testing data:  0.9123698504868628\n",
      "Recall of Testing data:  0.8500370461785409\n",
      "F1 score of Testing data:  0.8706476547899781\n"
     ]
    }
   ],
   "source": [
    "log_reg_bow = LogisticRegression(penalty='l2', multi_class='ovr', max_iter=1000, C=1)\n",
    "log_reg_bow.fit(Xtrain_bow, y_train)\n",
    "\n",
    "ytrain_bow_pred = log_reg_bow.predict(Xtrain_bow)\n",
    "ytest_bow_pred = log_reg_bow.predict(Xtest_bow)\n",
    "\n",
    "\n",
    "print('-'*30)\n",
    "print('Accuracy of Testing data: ', accuracy_score(y_test, ytest_bow_pred))\n",
    "print('Precision of Testing data: ', precision_score(y_test, ytest_bow_pred, average='macro'))\n",
    "print('Recall of Testing data: ', recall_score(y_test, ytest_bow_pred, average='macro'))\n",
    "print('F1 score of Testing data: ', f1_score(y_test, ytest_bow_pred, average='macro'))\n"
   ]
  },
  {
   "cell_type": "markdown",
   "metadata": {},
   "source": [
    "### Model 2 Decision Trees"
   ]
  },
  {
   "cell_type": "code",
   "execution_count": 63,
   "metadata": {},
   "outputs": [],
   "source": [
    "from sklearn.tree import DecisionTreeClassifier\n",
    "\n",
    "accs_dt = []\n",
    "prec_dt = []\n",
    "rec_dt= []\n",
    "f_scores_dt = []\n",
    "\n",
    "for dep in [100, 200, 300, 400, 500] :\n",
    "    dt_bow = DecisionTreeClassifier(random_state=0, max_depth = dep)\n",
    "    \n",
    "    dt_bow.fit(Xtrain_bow, y_train)\n",
    "    \n",
    "\n",
    "    ytest_bow_pred = dt_bow.predict(Xtest_bow)\n",
    "    \n",
    "    accs_dt.append(accuracy_score(y_test, ytest_bow_pred))\n",
    "    f_scores_dt.append(f1_score(y_test, ytest_bow_pred, average='macro'))\n",
    "    prec_dt.append(precision_score(y_test, ytest_bow_pred, average='macro'))\n",
    "    rec_dt.append(recall_score(y_test, ytest_bow_pred, average='macro'))\n",
    "    "
   ]
  },
  {
   "cell_type": "code",
   "execution_count": 84,
   "metadata": {},
   "outputs": [
    {
     "data": {
      "image/png": "[encoded data removed]",
      "text/plain": [
       "<Figure size 432x288 with 1 Axes>"
      ]
     },
     "metadata": {
      "needs_background": "light"
     },
     "output_type": "display_data"
    }
   ],
   "source": [
    "plt.plot(accs_dt, label='Accuracy')\n",
    "plt.plot(prec_dt, label='precision')\n",
    "\n",
    "plt.plot(rec_dt, label='Recall')\n",
    "plt.plot(f_scores_dt, label='F-score')\n",
    "\n",
    "# plt.xticks(np.arange(6),[100, 200, 300, 400, 500]  )\n",
    "plt.legend(loc='best')\n",
    "plt.grid()\n",
    "plt.xticks([0,1, 2,3, 4], [100, 200, 300, 400, 500] )\n",
    "plt.xlabel('Depth')\n",
    "plt.ylabel('Metrics score')\n",
    "plt.title('Decision Tree on CV data With BOW Embeddings')\n",
    "plt.show()"
   ]
  },
  {
   "cell_type": "code",
   "execution_count": null,
   "metadata": {},
   "outputs": [],
   "source": []
  },
  {
   "cell_type": "code",
   "execution_count": null,
   "metadata": {},
   "outputs": [],
   "source": []
  },
  {
   "cell_type": "markdown",
   "metadata": {},
   "source": [
    "### Model 2 : SVM"
   ]
  },
  {
   "cell_type": "markdown",
   "metadata": {},
   "source": [
    "### Tuning SVM"
   ]
  },
  {
   "cell_type": "code",
   "execution_count": 98,
   "metadata": {},
   "outputs": [
    {
     "name": "stderr",
     "output_type": "stream",
     "text": [
      "C:\\Users\\sarat\\miniconda3\\envs\\text\\lib\\site-packages\\sklearn\\svm\\_base.py:246: ConvergenceWarning: Solver terminated early (max_iter=500).  Consider pre-processing your data with StandardScaler or MinMaxScaler.\n",
      "  warnings.warn('Solver terminated early (max_iter=%i).'\n",
      "C:\\Users\\sarat\\miniconda3\\envs\\text\\lib\\site-packages\\sklearn\\svm\\_base.py:246: ConvergenceWarning: Solver terminated early (max_iter=500).  Consider pre-processing your data with StandardScaler or MinMaxScaler.\n",
      "  warnings.warn('Solver terminated early (max_iter=%i).'\n",
      "C:\\Users\\sarat\\miniconda3\\envs\\text\\lib\\site-packages\\sklearn\\svm\\_base.py:246: ConvergenceWarning: Solver terminated early (max_iter=500).  Consider pre-processing your data with StandardScaler or MinMaxScaler.\n",
      "  warnings.warn('Solver terminated early (max_iter=%i).'\n",
      "C:\\Users\\sarat\\miniconda3\\envs\\text\\lib\\site-packages\\sklearn\\svm\\_base.py:246: ConvergenceWarning: Solver terminated early (max_iter=500).  Consider pre-processing your data with StandardScaler or MinMaxScaler.\n",
      "  warnings.warn('Solver terminated early (max_iter=%i).'\n",
      "C:\\Users\\sarat\\miniconda3\\envs\\text\\lib\\site-packages\\sklearn\\svm\\_base.py:246: ConvergenceWarning: Solver terminated early (max_iter=500).  Consider pre-processing your data with StandardScaler or MinMaxScaler.\n",
      "  warnings.warn('Solver terminated early (max_iter=%i).'\n"
     ]
    }
   ],
   "source": [
    "C_vals = [ 0.01, 0.1, 1, 10, 100]\n",
    "\n",
    "\n",
    "accs_svm = []\n",
    "prec_svm = []\n",
    "rec_svm= []\n",
    "f_scores_svm = []\n",
    "\n",
    "for c in C_vals:\n",
    "    \n",
    "    svc_bow = SVC(kernel= 'rbf', decision_function_shape='ovr', max_iter=500, C=c)\n",
    "    svc_bow.fit(Xtrain_bow, y_train)\n",
    "\n",
    "    ytest_bow_pred = svc_bow.predict(Xtest_bow)\n",
    "    \n",
    "    accs_svm.append(accuracy_score(y_test, ytest_bow_pred))\n",
    "    f_scores_svm.append(f1_score(y_test, ytest_bow_pred, average='macro'))\n",
    "    prec_svm.append(precision_score(y_test, ytest_bow_pred, average='macro'))\n",
    "    rec_svm.append(recall_score(y_test, ytest_bow_pred, average='macro'))\n",
    "    \n",
    "    "
   ]
  },
  {
   "cell_type": "code",
   "execution_count": 97,
   "metadata": {},
   "outputs": [
    {
     "data": {
      "image/png": "[encoded data removed]",
      "text/plain": [
       "<Figure size 432x288 with 1 Axes>"
      ]
     },
     "metadata": {
      "needs_background": "light"
     },
     "output_type": "display_data"
    }
   ],
   "source": [
    "plt.plot(accs_svm, label='Accuracy')\n",
    "plt.plot(prec_svm, label='precision')\n",
    "\n",
    "plt.plot(rec_svm, label='Recall')\n",
    "plt.plot(f_scores_svm, label='F-score')\n",
    "\n",
    "# plt.xticks(np.arange(6),[100, 200, 300, 400, 500]  )\n",
    "plt.legend(loc='best')\n",
    "plt.grid()\n",
    "plt.xticks([0,1, 2,3, 4],C_vals )\n",
    "plt.xlabel('C values')\n",
    "plt.ylabel('Metrics score')\n",
    "plt.title('SVM on CV data With BOW Embeddings')\n",
    "plt.show()"
   ]
  },
  {
   "cell_type": "code",
   "execution_count": null,
   "metadata": {},
   "outputs": [],
   "source": [
    "\n",
    "svc_bow = SVC(kernel='rbf', decision_function_shape='ovr', max_iter=1000, probability=True)\n",
    "svc_bow.fit(Xtrain_bow, y_train)\n",
    "ytrain_bow_pred = svc_bow.predict(Xtrain_bow)\n",
    "ytest_bow_pred = svc_bow.predict(Xtest_bow)\n",
    "\n"
   ]
  },
  {
   "cell_type": "code",
   "execution_count": 105,
   "metadata": {},
   "outputs": [
    {
     "name": "stdout",
     "output_type": "stream",
     "text": [
      "------------------------------\n",
      "Accuracy of Testing data:  0.9343063431563943\n",
      "Precision score of Testing data:  0.927906009109671\n",
      "Recall of Testing data:  0.9450155668020853\n",
      "F1 score of Testing data:  0.9356354362561601\n"
     ]
    }
   ],
   "source": [
    "print('-'*30)\n",
    "print('Accuracy of Testing data: ', accuracy_score(y_test, ytest_bow_pred))\n",
    "print('Precision score of Testing data: ', precision_score(y_test, ytest_bow_pred, average='macro'))\n",
    "print('Recall of Testing data: ', recall_score(y_test, ytest_bow_pred, average='macro'))\n",
    "print('F1 score of Testing data: ', f1_score(y_test, ytest_bow_pred, average='macro'))"
   ]
  },
  {
   "cell_type": "code",
   "execution_count": 94,
   "metadata": {},
   "outputs": [],
   "source": [
    "import pickle\n",
    "with open('svm_classifier.pkl', 'wb') as f:\n",
    "    pickle.dump(svc_bow,f)"
   ]
  },
  {
   "cell_type": "code",
   "execution_count": 99,
   "metadata": {},
   "outputs": [],
   "source": [
    "with open('svm_classifier.pkl', 'rb') as f :\n",
    "    clf = pickle.load(f)"
   ]
  },
  {
   "cell_type": "code",
   "execution_count": null,
   "metadata": {},
   "outputs": [],
   "source": []
  },
  {
   "cell_type": "code",
   "execution_count": 39,
   "metadata": {},
   "outputs": [],
   "source": [
    "with open('bow_vectorizer.pkl', 'wb') as f :\n",
    "    pickle.dump(bow_vec, f)"
   ]
  },
  {
   "cell_type": "markdown",
   "metadata": {},
   "source": [
    "### Testing on New data"
   ]
  },
  {
   "cell_type": "code",
   "execution_count": 60,
   "metadata": {},
   "outputs": [
    {
     "name": "stdout",
     "output_type": "stream",
     "text": [
      "New Password : sarath, Predcited label : [0]\n",
      "New Password : s@r@$ddddddd12, Predcited label : [0]\n",
      "New Password : S2a2th, Predcited label : [0]\n",
      "New Password : S@3ar1, Predcited label : [0]\n",
      "New Password : SSDFaeaefr@#$56d, Predcited label : [0]\n",
      "New Password : lamborghin1, Predcited label : [1]\n",
      "New Password : qqqqqqqqqqq, Predcited label : [0]\n"
     ]
    }
   ],
   "source": [
    "new_pswds = ['sarath', 's@r@$ddddddd12', 'S2a2th', 'S@3ar1','SSDFaeaefr@#$56d','lamborghin1','qqqqqqqqqqq']\n",
    "new_pswds_bow = bow_vec.transform(new_pswds)\n",
    "\n",
    "for pwd, bow in zip(new_pswds, new_pswds_bow) :\n",
    "    \n",
    "    lab = dt_bow.predict(bow)\n",
    "    print(f'New Password : {pwd}, Predcited label : {lab}')\n",
    "    "
   ]
  }
 ],
 "metadata": {
  "kernelspec": {
   "display_name": "Python 3",
   "language": "python",
   "name": "python3"
  },
  "language_info": {
   "codemirror_mode": {
    "name": "ipython",
    "version": 3
   },
   "file_extension": ".py",
   "mimetype": "text/x-python",
   "name": "python",
   "nbconvert_exporter": "python",
   "pygments_lexer": "ipython3",
   "version": "3.8.3"
  }
 },
 "nbformat": 4,
 "nbformat_minor": 4
}
